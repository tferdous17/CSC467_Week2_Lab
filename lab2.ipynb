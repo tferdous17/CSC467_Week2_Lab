{
 "cells": [
  {
   "cell_type": "markdown",
   "metadata": {},
   "source": [
    "# CSC467 Computer Vision and Pattern Recognition\n",
    "\n",
    "### Lab 2 - Basic Image Processing\n",
    "\n",
    "### Tasnim Ferdous"
   ]
  },
  {
   "cell_type": "code",
   "execution_count": null,
   "metadata": {
    "vscode": {
     "languageId": "plaintext"
    }
   },
   "outputs": [],
   "source": [
    "import cv2\n",
    "import numpy as numpy\n",
    "from matplotlib import pyplot as plt \n",
    "from mpl_toolkits import mplot3d \n",
    "from skimage import io as io_url"
   ]
  }
 ],
 "metadata": {
  "language_info": {
   "name": "python"
  }
 },
 "nbformat": 4,
 "nbformat_minor": 2
}
